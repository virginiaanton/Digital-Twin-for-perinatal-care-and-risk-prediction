{
 "cells": [
  {
   "cell_type": "markdown",
   "id": "521ff5e4-0649-463a-9004-062f76a714ed",
   "metadata": {},
   "source": [
    "# GENERACIÓN DATASET PRIMER MES"
   ]
  },
  {
   "cell_type": "code",
   "execution_count": 48,
   "id": "0f1167b1-9933-4bdc-a19d-cc59decbd3b5",
   "metadata": {},
   "outputs": [],
   "source": [
    "import pandas as pd\n",
    "import numpy as np\n",
    "import matplotlib.pyplot as plt\n",
    "import seaborn as sns\n",
    "\n",
    "from sklearn.linear_model import LinearRegression\n",
    "from sklearn.decomposition import PCA\n",
    "\n",
    "import scipy.stats as stats\n",
    "import seaborn as sns\n",
    "from scipy.interpolate import interp1d\n",
    "\n",
    "from datetime import date\n",
    "from datetime import datetime\n",
    "from datetime import timedelta\n"
   ]
  },
  {
   "cell_type": "code",
   "execution_count": 52,
   "id": "4c3060bd-9c09-414f-815d-414e8763cd8f",
   "metadata": {},
   "outputs": [
    {
     "name": "stdout",
     "output_type": "stream",
     "text": [
      "Requirement already satisfied: pandas in c:\\users\\virginia.anton\\anaconda3\\lib\\site-packages (2.2.2)\n",
      "Requirement already satisfied: numpy>=1.26.0 in c:\\users\\virginia.anton\\anaconda3\\lib\\site-packages (from pandas) (1.26.4)\n",
      "Requirement already satisfied: python-dateutil>=2.8.2 in c:\\users\\virginia.anton\\anaconda3\\lib\\site-packages (from pandas) (2.9.0.post0)\n",
      "Requirement already satisfied: pytz>=2020.1 in c:\\users\\virginia.anton\\anaconda3\\lib\\site-packages (from pandas) (2024.1)\n",
      "Requirement already satisfied: tzdata>=2022.7 in c:\\users\\virginia.anton\\anaconda3\\lib\\site-packages (from pandas) (2023.3)\n",
      "Requirement already satisfied: six>=1.5 in c:\\users\\virginia.anton\\anaconda3\\lib\\site-packages (from python-dateutil>=2.8.2->pandas) (1.16.0)\n",
      "Note: you may need to restart the kernel to use updated packages.\n"
     ]
    }
   ],
   "source": [
    "pip install pandas"
   ]
  },
  {
   "cell_type": "code",
   "execution_count": 9,
   "id": "982fe7eb-8db2-4a8b-a362-532e21428cbe",
   "metadata": {},
   "outputs": [
    {
     "name": "stdout",
     "output_type": "stream",
     "text": [
      "        user_id   Age            timestamp  DiastolicBP  SystolicBP  \\\n",
      "0     user_0000  32.0  2024-06-16 02:45:05    89.000000  134.000000   \n",
      "1     user_0000  32.0  2024-06-16 10:45:05    87.000000  130.166667   \n",
      "2     user_0000  32.0  2024-06-16 18:45:05    87.000000  130.166667   \n",
      "3     user_0000  31.0  2024-06-18 07:37:54    87.000000  133.000000   \n",
      "4     user_0000  31.0  2024-06-18 15:37:54    86.333333  131.166667   \n",
      "...         ...   ...                  ...          ...         ...   \n",
      "1202  user_0099  32.0  2024-06-13 16:00:00    86.333333  131.000000   \n",
      "1203  user_0099  32.0  2024-06-13 23:22:02    86.333333  131.000000   \n",
      "1204  user_0099  32.0  2024-06-28 08:00:00    86.333333  131.000000   \n",
      "1205  user_0099  32.0  2024-06-28 16:00:00    87.000000  130.166667   \n",
      "1206  user_0099  32.0  2024-06-28 17:20:22    84.000000  134.000000   \n",
      "\n",
      "              BS   BodyTemp   HeartRate         day month&year  \n",
      "0     148.614941  98.696800  100.000000  2024-06-16    2024-06  \n",
      "1     149.878696  98.711909  108.166667  2024-06-16    2024-06  \n",
      "2     149.878696  98.711909  108.166667  2024-06-16    2024-06  \n",
      "3     159.415316  98.843603  121.000000  2024-06-18    2024-06  \n",
      "4     143.821881  98.870108  102.000000  2024-06-18    2024-06  \n",
      "...          ...        ...         ...         ...        ...  \n",
      "1202  149.752092  98.772828  107.166667  2024-06-13    2024-06  \n",
      "1203  149.752092  98.772828  107.166667  2024-06-13    2024-06  \n",
      "1204  149.752092  98.772828  107.166667  2024-06-28    2024-06  \n",
      "1205  149.878696  98.711909  108.166667  2024-06-28    2024-06  \n",
      "1206  150.783698  98.562741  103.000000  2024-06-28    2024-06  \n",
      "\n",
      "[1207 rows x 10 columns]\n"
     ]
    }
   ],
   "source": [
    "\n",
    "# Abrir y cargar el fichero JSON\n",
    "synthetic_FirstMonth = pd.read_csv('wearable-primerMes-knn-syn.csv')\n",
    "\n",
    "# Mostrar el DataFrame\n",
    "print(synthetic_FirstMonth)"
   ]
  },
  {
   "cell_type": "code",
   "execution_count": 13,
   "id": "a54b0afa-9ff7-4b7e-bf26-0e7e8ede002a",
   "metadata": {},
   "outputs": [
    {
     "name": "stdout",
     "output_type": "stream",
     "text": [
      "        user_id   Age            timestamp  DiastolicBP  SystolicBP  \\\n",
      "0     user_0000  32.0  2024-06-16 02:45:05    89.000000  134.000000   \n",
      "1     user_0000  32.0  2024-06-16 10:45:05    87.000000  130.166667   \n",
      "2     user_0000  32.0  2024-06-16 18:45:05    87.000000  130.166667   \n",
      "3     user_0000  31.0  2024-06-18 07:37:54    87.000000  133.000000   \n",
      "4     user_0000  31.0  2024-06-18 15:37:54    86.333333  131.166667   \n",
      "...         ...   ...                  ...          ...         ...   \n",
      "1202  user_0099  32.0  2024-06-13 16:00:00    86.333333  131.000000   \n",
      "1203  user_0099  32.0  2024-06-13 23:22:02    86.333333  131.000000   \n",
      "1204  user_0099  32.0  2024-06-28 08:00:00    86.333333  131.000000   \n",
      "1205  user_0099  32.0  2024-06-28 16:00:00    87.000000  130.166667   \n",
      "1206  user_0099  32.0  2024-06-28 17:20:22    84.000000  134.000000   \n",
      "\n",
      "              BS   BodyTemp   HeartRate         day month&year  \n",
      "0     148.614941  98.696800  100.000000  2024-06-16    2024-06  \n",
      "1     149.878696  98.711909  108.166667  2024-06-16    2024-06  \n",
      "2     149.878696  98.711909  108.166667  2024-06-16    2024-06  \n",
      "3     159.415316  98.843603  121.000000  2024-06-18    2024-06  \n",
      "4     143.821881  98.870108  102.000000  2024-06-18    2024-06  \n",
      "...          ...        ...         ...         ...        ...  \n",
      "1202  149.752092  98.772828  107.166667  2024-06-13    2024-06  \n",
      "1203  149.752092  98.772828  107.166667  2024-06-13    2024-06  \n",
      "1204  149.752092  98.772828  107.166667  2024-06-28    2024-06  \n",
      "1205  149.878696  98.711909  108.166667  2024-06-28    2024-06  \n",
      "1206  150.783698  98.562741  103.000000  2024-06-28    2024-06  \n",
      "\n",
      "[1207 rows x 10 columns]\n"
     ]
    }
   ],
   "source": [
    "\n",
    "# Abrir y cargar el fichero JSON\n",
    "synthetic_FirstMonth = pd.read_csv('wearable-primerMes-knn-syn.csv')\n",
    "\n",
    "# Mostrar el DataFrame\n",
    "print(synthetic_FirstMonth)"
   ]
  },
  {
   "cell_type": "code",
   "execution_count": 17,
   "id": "02aa5fbc-3a8e-4943-8d21-5f78c8d34630",
   "metadata": {},
   "outputs": [
    {
     "data": {
      "text/html": [
       "<div>\n",
       "<style scoped>\n",
       "    .dataframe tbody tr th:only-of-type {\n",
       "        vertical-align: middle;\n",
       "    }\n",
       "\n",
       "    .dataframe tbody tr th {\n",
       "        vertical-align: top;\n",
       "    }\n",
       "\n",
       "    .dataframe thead th {\n",
       "        text-align: right;\n",
       "    }\n",
       "</style>\n",
       "<table border=\"1\" class=\"dataframe\">\n",
       "  <thead>\n",
       "    <tr style=\"text-align: right;\">\n",
       "      <th></th>\n",
       "      <th>user_id</th>\n",
       "      <th>Age</th>\n",
       "      <th>timestamp</th>\n",
       "      <th>DiastolicBP</th>\n",
       "      <th>SystolicBP</th>\n",
       "      <th>BS</th>\n",
       "      <th>BodyTemp</th>\n",
       "      <th>HeartRate</th>\n",
       "      <th>day</th>\n",
       "      <th>month&amp;year</th>\n",
       "    </tr>\n",
       "  </thead>\n",
       "  <tbody>\n",
       "    <tr>\n",
       "      <th>0</th>\n",
       "      <td>user_0000</td>\n",
       "      <td>32.0</td>\n",
       "      <td>2024-06-16 02:45:05</td>\n",
       "      <td>89.000000</td>\n",
       "      <td>134.000000</td>\n",
       "      <td>148.614941</td>\n",
       "      <td>98.696800</td>\n",
       "      <td>100.000000</td>\n",
       "      <td>2024-06-16</td>\n",
       "      <td>2024-06</td>\n",
       "    </tr>\n",
       "    <tr>\n",
       "      <th>1</th>\n",
       "      <td>user_0000</td>\n",
       "      <td>32.0</td>\n",
       "      <td>2024-06-16 10:45:05</td>\n",
       "      <td>87.000000</td>\n",
       "      <td>130.166667</td>\n",
       "      <td>149.878696</td>\n",
       "      <td>98.711909</td>\n",
       "      <td>108.166667</td>\n",
       "      <td>2024-06-16</td>\n",
       "      <td>2024-06</td>\n",
       "    </tr>\n",
       "    <tr>\n",
       "      <th>2</th>\n",
       "      <td>user_0000</td>\n",
       "      <td>32.0</td>\n",
       "      <td>2024-06-16 18:45:05</td>\n",
       "      <td>87.000000</td>\n",
       "      <td>130.166667</td>\n",
       "      <td>149.878696</td>\n",
       "      <td>98.711909</td>\n",
       "      <td>108.166667</td>\n",
       "      <td>2024-06-16</td>\n",
       "      <td>2024-06</td>\n",
       "    </tr>\n",
       "    <tr>\n",
       "      <th>3</th>\n",
       "      <td>user_0000</td>\n",
       "      <td>31.0</td>\n",
       "      <td>2024-06-18 07:37:54</td>\n",
       "      <td>87.000000</td>\n",
       "      <td>133.000000</td>\n",
       "      <td>159.415316</td>\n",
       "      <td>98.843603</td>\n",
       "      <td>121.000000</td>\n",
       "      <td>2024-06-18</td>\n",
       "      <td>2024-06</td>\n",
       "    </tr>\n",
       "    <tr>\n",
       "      <th>4</th>\n",
       "      <td>user_0000</td>\n",
       "      <td>31.0</td>\n",
       "      <td>2024-06-18 15:37:54</td>\n",
       "      <td>86.333333</td>\n",
       "      <td>131.166667</td>\n",
       "      <td>143.821881</td>\n",
       "      <td>98.870108</td>\n",
       "      <td>102.000000</td>\n",
       "      <td>2024-06-18</td>\n",
       "      <td>2024-06</td>\n",
       "    </tr>\n",
       "  </tbody>\n",
       "</table>\n",
       "</div>"
      ],
      "text/plain": [
       "     user_id   Age            timestamp  DiastolicBP  SystolicBP          BS  \\\n",
       "0  user_0000  32.0  2024-06-16 02:45:05    89.000000  134.000000  148.614941   \n",
       "1  user_0000  32.0  2024-06-16 10:45:05    87.000000  130.166667  149.878696   \n",
       "2  user_0000  32.0  2024-06-16 18:45:05    87.000000  130.166667  149.878696   \n",
       "3  user_0000  31.0  2024-06-18 07:37:54    87.000000  133.000000  159.415316   \n",
       "4  user_0000  31.0  2024-06-18 15:37:54    86.333333  131.166667  143.821881   \n",
       "\n",
       "    BodyTemp   HeartRate         day month&year  \n",
       "0  98.696800  100.000000  2024-06-16    2024-06  \n",
       "1  98.711909  108.166667  2024-06-16    2024-06  \n",
       "2  98.711909  108.166667  2024-06-16    2024-06  \n",
       "3  98.843603  121.000000  2024-06-18    2024-06  \n",
       "4  98.870108  102.000000  2024-06-18    2024-06  "
      ]
     },
     "execution_count": 17,
     "metadata": {},
     "output_type": "execute_result"
    }
   ],
   "source": [
    "synthetic_FirstMonth.head()"
   ]
  },
  {
   "cell_type": "code",
   "execution_count": 15,
   "id": "a702e262-8d63-4932-a384-8d493672d08c",
   "metadata": {},
   "outputs": [],
   "source": [
    "secondMonth = pd.read_csv('second-month-generation.csv')"
   ]
  },
  {
   "cell_type": "code",
   "execution_count": 23,
   "id": "40a621d4-a7f9-487e-a088-b9947d1be3f7",
   "metadata": {},
   "outputs": [
    {
     "data": {
      "text/html": [
       "<div>\n",
       "<style scoped>\n",
       "    .dataframe tbody tr th:only-of-type {\n",
       "        vertical-align: middle;\n",
       "    }\n",
       "\n",
       "    .dataframe tbody tr th {\n",
       "        vertical-align: top;\n",
       "    }\n",
       "\n",
       "    .dataframe thead th {\n",
       "        text-align: right;\n",
       "    }\n",
       "</style>\n",
       "<table border=\"1\" class=\"dataframe\">\n",
       "  <thead>\n",
       "    <tr style=\"text-align: right;\">\n",
       "      <th></th>\n",
       "      <th>user_id</th>\n",
       "      <th>Age</th>\n",
       "      <th>timestamp</th>\n",
       "      <th>DiastolicBP</th>\n",
       "      <th>SystolicBP</th>\n",
       "      <th>BS</th>\n",
       "      <th>BodyTemp</th>\n",
       "      <th>HeartRate</th>\n",
       "      <th>day</th>\n",
       "      <th>month&amp;year</th>\n",
       "    </tr>\n",
       "  </thead>\n",
       "  <tbody>\n",
       "    <tr>\n",
       "      <th>0</th>\n",
       "      <td>user_0001</td>\n",
       "      <td>20.0</td>\n",
       "      <td>2024-07-01 02:45:05</td>\n",
       "      <td>85.0</td>\n",
       "      <td>130.0</td>\n",
       "      <td>200.0</td>\n",
       "      <td>98.020946</td>\n",
       "      <td>148.0</td>\n",
       "      <td>2024-07-01</td>\n",
       "      <td>2024-07</td>\n",
       "    </tr>\n",
       "    <tr>\n",
       "      <th>1</th>\n",
       "      <td>user_0001</td>\n",
       "      <td>20.0</td>\n",
       "      <td>2024-07-01 10:45:05</td>\n",
       "      <td>85.0</td>\n",
       "      <td>130.0</td>\n",
       "      <td>200.0</td>\n",
       "      <td>98.020946</td>\n",
       "      <td>148.0</td>\n",
       "      <td>2024-07-01</td>\n",
       "      <td>2024-07</td>\n",
       "    </tr>\n",
       "    <tr>\n",
       "      <th>2</th>\n",
       "      <td>user_0001</td>\n",
       "      <td>20.0</td>\n",
       "      <td>2024-07-01 18:45:05</td>\n",
       "      <td>85.0</td>\n",
       "      <td>130.0</td>\n",
       "      <td>200.0</td>\n",
       "      <td>98.020946</td>\n",
       "      <td>148.0</td>\n",
       "      <td>2024-07-01</td>\n",
       "      <td>2024-07</td>\n",
       "    </tr>\n",
       "    <tr>\n",
       "      <th>3</th>\n",
       "      <td>user_0001</td>\n",
       "      <td>20.0</td>\n",
       "      <td>2024-07-02 02:45:05</td>\n",
       "      <td>84.0</td>\n",
       "      <td>129.0</td>\n",
       "      <td>202.0</td>\n",
       "      <td>98.024046</td>\n",
       "      <td>150.0</td>\n",
       "      <td>2024-07-02</td>\n",
       "      <td>2024-07</td>\n",
       "    </tr>\n",
       "    <tr>\n",
       "      <th>4</th>\n",
       "      <td>user_0001</td>\n",
       "      <td>20.0</td>\n",
       "      <td>2024-07-02 10:45:05</td>\n",
       "      <td>84.0</td>\n",
       "      <td>129.0</td>\n",
       "      <td>202.0</td>\n",
       "      <td>98.024046</td>\n",
       "      <td>150.0</td>\n",
       "      <td>2024-07-02</td>\n",
       "      <td>2024-07</td>\n",
       "    </tr>\n",
       "  </tbody>\n",
       "</table>\n",
       "</div>"
      ],
      "text/plain": [
       "     user_id   Age            timestamp  DiastolicBP  SystolicBP     BS  \\\n",
       "0  user_0001  20.0  2024-07-01 02:45:05         85.0       130.0  200.0   \n",
       "1  user_0001  20.0  2024-07-01 10:45:05         85.0       130.0  200.0   \n",
       "2  user_0001  20.0  2024-07-01 18:45:05         85.0       130.0  200.0   \n",
       "3  user_0001  20.0  2024-07-02 02:45:05         84.0       129.0  202.0   \n",
       "4  user_0001  20.0  2024-07-02 10:45:05         84.0       129.0  202.0   \n",
       "\n",
       "    BodyTemp  HeartRate         day month&year  \n",
       "0  98.020946      148.0  2024-07-01    2024-07  \n",
       "1  98.020946      148.0  2024-07-01    2024-07  \n",
       "2  98.020946      148.0  2024-07-01    2024-07  \n",
       "3  98.024046      150.0  2024-07-02    2024-07  \n",
       "4  98.024046      150.0  2024-07-02    2024-07  "
      ]
     },
     "execution_count": 23,
     "metadata": {},
     "output_type": "execute_result"
    }
   ],
   "source": [
    "secondMonth.head()"
   ]
  },
  {
   "cell_type": "code",
   "execution_count": 19,
   "id": "f72202a8-b9e8-4dc2-a92d-c4162418780b",
   "metadata": {},
   "outputs": [],
   "source": [
    "thirdMonth = pd.read_csv('third-month-generation.csv')"
   ]
  },
  {
   "cell_type": "code",
   "execution_count": 25,
   "id": "3bfd54cb-eb3d-4252-855a-394facf4b30c",
   "metadata": {},
   "outputs": [
    {
     "data": {
      "text/html": [
       "<div>\n",
       "<style scoped>\n",
       "    .dataframe tbody tr th:only-of-type {\n",
       "        vertical-align: middle;\n",
       "    }\n",
       "\n",
       "    .dataframe tbody tr th {\n",
       "        vertical-align: top;\n",
       "    }\n",
       "\n",
       "    .dataframe thead th {\n",
       "        text-align: right;\n",
       "    }\n",
       "</style>\n",
       "<table border=\"1\" class=\"dataframe\">\n",
       "  <thead>\n",
       "    <tr style=\"text-align: right;\">\n",
       "      <th></th>\n",
       "      <th>user_id</th>\n",
       "      <th>Age</th>\n",
       "      <th>timestamp</th>\n",
       "      <th>DiastolicBP</th>\n",
       "      <th>SystolicBP</th>\n",
       "      <th>BS</th>\n",
       "      <th>BodyTemp</th>\n",
       "      <th>HeartRate</th>\n",
       "      <th>day</th>\n",
       "      <th>month&amp;year</th>\n",
       "    </tr>\n",
       "  </thead>\n",
       "  <tbody>\n",
       "    <tr>\n",
       "      <th>0</th>\n",
       "      <td>user_0001</td>\n",
       "      <td>25.0</td>\n",
       "      <td>2024-08-01 02:45:05</td>\n",
       "      <td>85.0</td>\n",
       "      <td>129.0</td>\n",
       "      <td>156.614941</td>\n",
       "      <td>98.696800</td>\n",
       "      <td>101.0</td>\n",
       "      <td>2024-08-01</td>\n",
       "      <td>2024-08</td>\n",
       "    </tr>\n",
       "    <tr>\n",
       "      <th>1</th>\n",
       "      <td>user_0001</td>\n",
       "      <td>25.0</td>\n",
       "      <td>2024-08-01 10:45:05</td>\n",
       "      <td>85.0</td>\n",
       "      <td>129.0</td>\n",
       "      <td>156.614941</td>\n",
       "      <td>98.696800</td>\n",
       "      <td>101.0</td>\n",
       "      <td>2024-08-01</td>\n",
       "      <td>2024-08</td>\n",
       "    </tr>\n",
       "    <tr>\n",
       "      <th>2</th>\n",
       "      <td>user_0001</td>\n",
       "      <td>25.0</td>\n",
       "      <td>2024-08-01 18:45:05</td>\n",
       "      <td>85.0</td>\n",
       "      <td>129.0</td>\n",
       "      <td>156.614941</td>\n",
       "      <td>98.696800</td>\n",
       "      <td>101.0</td>\n",
       "      <td>2024-08-01</td>\n",
       "      <td>2024-08</td>\n",
       "    </tr>\n",
       "    <tr>\n",
       "      <th>3</th>\n",
       "      <td>user_0001</td>\n",
       "      <td>25.0</td>\n",
       "      <td>2024-08-02 02:45:05</td>\n",
       "      <td>86.0</td>\n",
       "      <td>130.0</td>\n",
       "      <td>157.878696</td>\n",
       "      <td>98.711909</td>\n",
       "      <td>102.0</td>\n",
       "      <td>2024-08-02</td>\n",
       "      <td>2024-08</td>\n",
       "    </tr>\n",
       "    <tr>\n",
       "      <th>4</th>\n",
       "      <td>user_0001</td>\n",
       "      <td>25.0</td>\n",
       "      <td>2024-08-02 10:45:05</td>\n",
       "      <td>86.0</td>\n",
       "      <td>130.0</td>\n",
       "      <td>157.878696</td>\n",
       "      <td>98.711909</td>\n",
       "      <td>102.0</td>\n",
       "      <td>2024-08-02</td>\n",
       "      <td>2024-08</td>\n",
       "    </tr>\n",
       "  </tbody>\n",
       "</table>\n",
       "</div>"
      ],
      "text/plain": [
       "     user_id   Age            timestamp  DiastolicBP  SystolicBP          BS  \\\n",
       "0  user_0001  25.0  2024-08-01 02:45:05         85.0       129.0  156.614941   \n",
       "1  user_0001  25.0  2024-08-01 10:45:05         85.0       129.0  156.614941   \n",
       "2  user_0001  25.0  2024-08-01 18:45:05         85.0       129.0  156.614941   \n",
       "3  user_0001  25.0  2024-08-02 02:45:05         86.0       130.0  157.878696   \n",
       "4  user_0001  25.0  2024-08-02 10:45:05         86.0       130.0  157.878696   \n",
       "\n",
       "    BodyTemp  HeartRate         day month&year  \n",
       "0  98.696800      101.0  2024-08-01    2024-08  \n",
       "1  98.696800      101.0  2024-08-01    2024-08  \n",
       "2  98.696800      101.0  2024-08-01    2024-08  \n",
       "3  98.711909      102.0  2024-08-02    2024-08  \n",
       "4  98.711909      102.0  2024-08-02    2024-08  "
      ]
     },
     "execution_count": 25,
     "metadata": {},
     "output_type": "execute_result"
    }
   ],
   "source": [
    "thirdMonth.head()"
   ]
  },
  {
   "cell_type": "code",
   "execution_count": 74,
   "id": "cf4a9b84-ab8f-4bd9-ba3b-f9404c13f1a0",
   "metadata": {},
   "outputs": [],
   "source": [
    "#combinamos datasets pata generar dataset del primer trimestre \n",
    "def combine_monthly_datasets(dataset_list):\n",
    "    \"\"\"\n",
    "    Combina los datasests mensuales en un único dataframe\n",
    "    ARGS:\n",
    "        - dataset_list: lista con los nombres de los datasets a combinar\n",
    "    RETURNS:\n",
    "        - Dataframe combinado\n",
    "    \"\"\"\n",
    "    combined_df = pd.concat(dataset_list, ignore_index=True)\n",
    "    return combined_df"
   ]
  },
  {
   "cell_type": "code",
   "execution_count": 76,
   "id": "653a5f59-ceeb-4370-9566-9dfe0a406490",
   "metadata": {},
   "outputs": [
    {
     "data": {
      "text/html": [
       "<div>\n",
       "<style scoped>\n",
       "    .dataframe tbody tr th:only-of-type {\n",
       "        vertical-align: middle;\n",
       "    }\n",
       "\n",
       "    .dataframe tbody tr th {\n",
       "        vertical-align: top;\n",
       "    }\n",
       "\n",
       "    .dataframe thead th {\n",
       "        text-align: right;\n",
       "    }\n",
       "</style>\n",
       "<table border=\"1\" class=\"dataframe\">\n",
       "  <thead>\n",
       "    <tr style=\"text-align: right;\">\n",
       "      <th></th>\n",
       "      <th>user_id</th>\n",
       "      <th>Age</th>\n",
       "      <th>timestamp</th>\n",
       "      <th>DiastolicBP</th>\n",
       "      <th>SystolicBP</th>\n",
       "      <th>BS</th>\n",
       "      <th>BodyTemp</th>\n",
       "      <th>HeartRate</th>\n",
       "      <th>day</th>\n",
       "      <th>month&amp;year</th>\n",
       "    </tr>\n",
       "  </thead>\n",
       "  <tbody>\n",
       "    <tr>\n",
       "      <th>0</th>\n",
       "      <td>user_0000</td>\n",
       "      <td>32.0</td>\n",
       "      <td>2024-06-16 02:45:05</td>\n",
       "      <td>89.000000</td>\n",
       "      <td>134.000000</td>\n",
       "      <td>148.614941</td>\n",
       "      <td>98.696800</td>\n",
       "      <td>100.000000</td>\n",
       "      <td>2024-06-16</td>\n",
       "      <td>2024-06</td>\n",
       "    </tr>\n",
       "    <tr>\n",
       "      <th>1</th>\n",
       "      <td>user_0000</td>\n",
       "      <td>32.0</td>\n",
       "      <td>2024-06-16 10:45:05</td>\n",
       "      <td>87.000000</td>\n",
       "      <td>130.166667</td>\n",
       "      <td>149.878696</td>\n",
       "      <td>98.711909</td>\n",
       "      <td>108.166667</td>\n",
       "      <td>2024-06-16</td>\n",
       "      <td>2024-06</td>\n",
       "    </tr>\n",
       "    <tr>\n",
       "      <th>2</th>\n",
       "      <td>user_0000</td>\n",
       "      <td>32.0</td>\n",
       "      <td>2024-06-16 18:45:05</td>\n",
       "      <td>87.000000</td>\n",
       "      <td>130.166667</td>\n",
       "      <td>149.878696</td>\n",
       "      <td>98.711909</td>\n",
       "      <td>108.166667</td>\n",
       "      <td>2024-06-16</td>\n",
       "      <td>2024-06</td>\n",
       "    </tr>\n",
       "    <tr>\n",
       "      <th>3</th>\n",
       "      <td>user_0000</td>\n",
       "      <td>31.0</td>\n",
       "      <td>2024-06-18 07:37:54</td>\n",
       "      <td>87.000000</td>\n",
       "      <td>133.000000</td>\n",
       "      <td>159.415316</td>\n",
       "      <td>98.843603</td>\n",
       "      <td>121.000000</td>\n",
       "      <td>2024-06-18</td>\n",
       "      <td>2024-06</td>\n",
       "    </tr>\n",
       "    <tr>\n",
       "      <th>4</th>\n",
       "      <td>user_0000</td>\n",
       "      <td>31.0</td>\n",
       "      <td>2024-06-18 15:37:54</td>\n",
       "      <td>86.333333</td>\n",
       "      <td>131.166667</td>\n",
       "      <td>143.821881</td>\n",
       "      <td>98.870108</td>\n",
       "      <td>102.000000</td>\n",
       "      <td>2024-06-18</td>\n",
       "      <td>2024-06</td>\n",
       "    </tr>\n",
       "  </tbody>\n",
       "</table>\n",
       "</div>"
      ],
      "text/plain": [
       "     user_id   Age            timestamp  DiastolicBP  SystolicBP          BS  \\\n",
       "0  user_0000  32.0  2024-06-16 02:45:05    89.000000  134.000000  148.614941   \n",
       "1  user_0000  32.0  2024-06-16 10:45:05    87.000000  130.166667  149.878696   \n",
       "2  user_0000  32.0  2024-06-16 18:45:05    87.000000  130.166667  149.878696   \n",
       "3  user_0000  31.0  2024-06-18 07:37:54    87.000000  133.000000  159.415316   \n",
       "4  user_0000  31.0  2024-06-18 15:37:54    86.333333  131.166667  143.821881   \n",
       "\n",
       "    BodyTemp   HeartRate         day month&year  \n",
       "0  98.696800  100.000000  2024-06-16    2024-06  \n",
       "1  98.711909  108.166667  2024-06-16    2024-06  \n",
       "2  98.711909  108.166667  2024-06-16    2024-06  \n",
       "3  98.843603  121.000000  2024-06-18    2024-06  \n",
       "4  98.870108  102.000000  2024-06-18    2024-06  "
      ]
     },
     "execution_count": 76,
     "metadata": {},
     "output_type": "execute_result"
    }
   ],
   "source": [
    "lista = [synthetic_FirstMonth, secondMonth, thirdMonth]\n",
    "firstTrimester = combine_monthly_datasets(lista)\n",
    "firstTrimester.head()"
   ]
  },
  {
   "cell_type": "code",
   "execution_count": 289,
   "id": "6d3ecab6-6e0e-4756-b078-26f453f4210d",
   "metadata": {},
   "outputs": [],
   "source": [
    "firstTrimester.to_csv(\"firstTrimester.csv\", index=False)"
   ]
  },
  {
   "cell_type": "markdown",
   "id": "45ddd3b8-d812-47d8-a3ff-c8b235f2d10a",
   "metadata": {},
   "source": [
    "Vamos a eliminar la columna \"month&year\" porque tiene la misma información que day, sólo que sin el día. "
   ]
  },
  {
   "cell_type": "code",
   "execution_count": 292,
   "id": "61cc3324-bf31-415c-95e7-14629af40100",
   "metadata": {},
   "outputs": [
    {
     "name": "stdout",
     "output_type": "stream",
     "text": [
      "      user_id                 min                 max\n",
      "0   user_0000 2024-06-16 02:45:05 2024-06-30 20:58:55\n",
      "1   user_0001 2024-06-05 08:00:00 2024-08-05 18:45:05\n",
      "2   user_0002 2024-06-14 08:00:00 2024-08-04 18:45:05\n",
      "3   user_0003 2024-07-01 02:45:05 2024-08-07 18:45:05\n",
      "4   user_0004 2024-06-13 08:00:00 2024-08-04 18:45:05\n",
      "..        ...                 ...                 ...\n",
      "92  user_0095 2024-06-12 12:15:36 2024-06-30 16:22:27\n",
      "93  user_0096 2024-06-10 12:02:41 2024-06-28 21:26:36\n",
      "94  user_0097 2024-06-16 08:00:00 2024-06-30 13:39:36\n",
      "95  user_0098 2024-06-19 08:00:00 2024-06-19 18:44:41\n",
      "96  user_0099 2024-06-13 15:22:02 2024-06-28 17:20:22\n",
      "\n",
      "[97 rows x 3 columns]\n"
     ]
    }
   ],
   "source": [
    "# Calcular el min y max timestamp para cada usuario\n",
    "user_timestamp_range = firstTrimester.groupby(\"user_id\")[\"timestamp\"].agg([\"min\", \"max\"]).reset_index()\n",
    "\n",
    "# Mostrar el rango de timestamps para cada usuario\n",
    "print(user_timestamp_range)"
   ]
  },
  {
   "cell_type": "code",
   "execution_count": 294,
   "id": "45093c93-ec27-4bc8-8b8c-a87dd18dfb9b",
   "metadata": {},
   "outputs": [
    {
     "name": "stdout",
     "output_type": "stream",
     "text": [
      "2024-06-01 14:38:44 2024-09-02 18:45:05\n"
     ]
    }
   ],
   "source": [
    "min_timestamp = firstTrimester[\"timestamp\"].min()\n",
    "max_timestamp = firstTrimester[\"timestamp\"].max()\n",
    "print(min_timestamp, max_timestamp)"
   ]
  },
  {
   "cell_type": "code",
   "execution_count": 296,
   "id": "03d101e0-3f14-4c1a-947b-be7e1f936c89",
   "metadata": {},
   "outputs": [
    {
     "name": "stdout",
     "output_type": "stream",
     "text": [
      "Conteo de usuarios por día:\n",
      "           day  usuarios_unicos\n",
      "0   2024-06-01                1\n",
      "1   2024-06-02                1\n",
      "2   2024-06-03                2\n",
      "3   2024-06-04                1\n",
      "4   2024-06-05                3\n",
      "..         ...              ...\n",
      "78  2024-08-29                3\n",
      "79  2024-08-30                3\n",
      "80  2024-08-31                4\n",
      "81  2024-09-01                4\n",
      "82  2024-09-02                2\n",
      "\n",
      "[83 rows x 2 columns]\n",
      "\n",
      "Día(s) con más usuarios:\n",
      "           day  usuarios_unicos\n",
      "25  2024-06-26               61\n"
     ]
    }
   ],
   "source": [
    "# Contar el número de usuarios únicos por día\n",
    "conteo_usuarios = firstTrimester.groupby('day')['user_id'].nunique().reset_index()\n",
    "conteo_usuarios.rename(columns={'user_id': 'usuarios_unicos'}, inplace=True)\n",
    "\n",
    "# Encontrar el(los) día(s) con más usuarios\n",
    "max_usuarios = conteo_usuarios['usuarios_unicos'].max()\n",
    "dias_max = conteo_usuarios[conteo_usuarios['usuarios_unicos'] == max_usuarios]\n",
    "\n",
    "print(\"Conteo de usuarios por día:\")\n",
    "print(conteo_usuarios)\n",
    "print(\"\\nDía(s) con más usuarios:\")\n",
    "print(dias_max)"
   ]
  },
  {
   "cell_type": "code",
   "execution_count": 298,
   "id": "94a99f6e-44fb-4295-a114-5d391b8e9c32",
   "metadata": {},
   "outputs": [
    {
     "data": {
      "image/png": "[encoded data removed]",
      "text/plain": [
       "<Figure size 800x600 with 1 Axes>"
      ]
     },
     "metadata": {},
     "output_type": "display_data"
    }
   ],
   "source": [
    "# Crear el gráfico de barras\n",
    "plt.figure(figsize=(8, 6))\n",
    "plt.bar(conteo_usuarios['day'], conteo_usuarios['usuarios_unicos'], width=0.6)\n",
    "plt.title('Número de usuarios únicos por día', fontsize=14)\n",
    "plt.xlabel('Día', fontsize=12)\n",
    "plt.ylabel('Usuarios únicos', fontsize=12)\n",
    "plt.xticks(rotation=45)\n",
    "plt.grid(axis='y', linestyle='--', alpha=0.7)\n",
    "plt.tight_layout()\n",
    "\n",
    "# Mostrar el gráfico\n",
    "plt.show()"
   ]
  },
  {
   "cell_type": "markdown",
   "id": "33d5d0fe-7847-45ad-ba28-0e15f851576f",
   "metadata": {},
   "source": [
    "Como podemos observar no todos los usuarios registran datos todos los días (tal y cómo ocurre en la realidad). En caso de sólo seguir las estrategias de telemedicina normales sería un problema porque perderíamos datos de seguimiento del paciente y las tendencias se estroperían."
   ]
  },
  {
   "cell_type": "markdown",
   "id": "ff56452a-008b-46cb-bd20-1d80be96a3b1",
   "metadata": {},
   "source": [
    "## VALIDACIÓN DE DATOS"
   ]
  },
  {
   "cell_type": "code",
   "execution_count": 300,
   "id": "643761ee-6f37-4868-ad22-ff81de0d70a7",
   "metadata": {},
   "outputs": [
    {
     "name": "stdout",
     "output_type": "stream",
     "text": [
      "Número de filas duplicadas: 0\n"
     ]
    }
   ],
   "source": [
    "# Comprobamos que no hay duplicados\n",
    "duplicates = firstTrimester.duplicated(subset=['user_id', 'timestamp'])\n",
    "print(f\"Número de filas duplicadas: {duplicates.sum()}\")"
   ]
  },
  {
   "cell_type": "code",
   "execution_count": 302,
   "id": "40aa81cb-d18d-451d-a68e-6c968686c946",
   "metadata": {},
   "outputs": [
    {
     "data": {
      "text/html": [
       "<div>\n",
       "<style scoped>\n",
       "    .dataframe tbody tr th:only-of-type {\n",
       "        vertical-align: middle;\n",
       "    }\n",
       "\n",
       "    .dataframe tbody tr th {\n",
       "        vertical-align: top;\n",
       "    }\n",
       "\n",
       "    .dataframe thead th {\n",
       "        text-align: right;\n",
       "    }\n",
       "</style>\n",
       "<table border=\"1\" class=\"dataframe\">\n",
       "  <thead>\n",
       "    <tr style=\"text-align: right;\">\n",
       "      <th></th>\n",
       "      <th>user_id</th>\n",
       "      <th>Age</th>\n",
       "      <th>timestamp</th>\n",
       "      <th>DiastolicBP</th>\n",
       "      <th>SystolicBP</th>\n",
       "      <th>BS</th>\n",
       "      <th>BodyTemp</th>\n",
       "      <th>HeartRate</th>\n",
       "      <th>day</th>\n",
       "      <th>month&amp;year</th>\n",
       "      <th>date</th>\n",
       "    </tr>\n",
       "  </thead>\n",
       "  <tbody>\n",
       "    <tr>\n",
       "      <th>0</th>\n",
       "      <td>user_0000</td>\n",
       "      <td>32.0</td>\n",
       "      <td>2024-06-16 02:45:05</td>\n",
       "      <td>89.000000</td>\n",
       "      <td>134.000000</td>\n",
       "      <td>148.614941</td>\n",
       "      <td>98.696800</td>\n",
       "      <td>100.000000</td>\n",
       "      <td>2024-06-16</td>\n",
       "      <td>2024-06</td>\n",
       "      <td>2024-06-16</td>\n",
       "    </tr>\n",
       "    <tr>\n",
       "      <th>1</th>\n",
       "      <td>user_0000</td>\n",
       "      <td>32.0</td>\n",
       "      <td>2024-06-16 10:45:05</td>\n",
       "      <td>87.000000</td>\n",
       "      <td>130.166667</td>\n",
       "      <td>149.878696</td>\n",
       "      <td>98.711909</td>\n",
       "      <td>108.166667</td>\n",
       "      <td>2024-06-16</td>\n",
       "      <td>2024-06</td>\n",
       "      <td>2024-06-16</td>\n",
       "    </tr>\n",
       "    <tr>\n",
       "      <th>2</th>\n",
       "      <td>user_0000</td>\n",
       "      <td>32.0</td>\n",
       "      <td>2024-06-16 18:45:05</td>\n",
       "      <td>87.000000</td>\n",
       "      <td>130.166667</td>\n",
       "      <td>149.878696</td>\n",
       "      <td>98.711909</td>\n",
       "      <td>108.166667</td>\n",
       "      <td>2024-06-16</td>\n",
       "      <td>2024-06</td>\n",
       "      <td>2024-06-16</td>\n",
       "    </tr>\n",
       "    <tr>\n",
       "      <th>3</th>\n",
       "      <td>user_0000</td>\n",
       "      <td>31.0</td>\n",
       "      <td>2024-06-18 07:37:54</td>\n",
       "      <td>87.000000</td>\n",
       "      <td>133.000000</td>\n",
       "      <td>159.415316</td>\n",
       "      <td>98.843603</td>\n",
       "      <td>121.000000</td>\n",
       "      <td>2024-06-18</td>\n",
       "      <td>2024-06</td>\n",
       "      <td>2024-06-18</td>\n",
       "    </tr>\n",
       "    <tr>\n",
       "      <th>4</th>\n",
       "      <td>user_0000</td>\n",
       "      <td>31.0</td>\n",
       "      <td>2024-06-18 15:37:54</td>\n",
       "      <td>86.333333</td>\n",
       "      <td>131.166667</td>\n",
       "      <td>143.821881</td>\n",
       "      <td>98.870108</td>\n",
       "      <td>102.000000</td>\n",
       "      <td>2024-06-18</td>\n",
       "      <td>2024-06</td>\n",
       "      <td>2024-06-18</td>\n",
       "    </tr>\n",
       "  </tbody>\n",
       "</table>\n",
       "</div>"
      ],
      "text/plain": [
       "     user_id   Age           timestamp  DiastolicBP  SystolicBP          BS  \\\n",
       "0  user_0000  32.0 2024-06-16 02:45:05    89.000000  134.000000  148.614941   \n",
       "1  user_0000  32.0 2024-06-16 10:45:05    87.000000  130.166667  149.878696   \n",
       "2  user_0000  32.0 2024-06-16 18:45:05    87.000000  130.166667  149.878696   \n",
       "3  user_0000  31.0 2024-06-18 07:37:54    87.000000  133.000000  159.415316   \n",
       "4  user_0000  31.0 2024-06-18 15:37:54    86.333333  131.166667  143.821881   \n",
       "\n",
       "    BodyTemp   HeartRate         day month&year        date  \n",
       "0  98.696800  100.000000  2024-06-16    2024-06  2024-06-16  \n",
       "1  98.711909  108.166667  2024-06-16    2024-06  2024-06-16  \n",
       "2  98.711909  108.166667  2024-06-16    2024-06  2024-06-16  \n",
       "3  98.843603  121.000000  2024-06-18    2024-06  2024-06-18  \n",
       "4  98.870108  102.000000  2024-06-18    2024-06  2024-06-18  "
      ]
     },
     "execution_count": 302,
     "metadata": {},
     "output_type": "execute_result"
    }
   ],
   "source": [
    "firstTrimester = firstTrimester.drop_duplicates(subset=['user_id', 'timestamp'])\n",
    "firstTrimester.head()"
   ]
  },
  {
   "cell_type": "code",
   "execution_count": 304,
   "id": "0625b91b-8cd5-47e0-92cb-5ec45399f824",
   "metadata": {},
   "outputs": [],
   "source": [
    "def verifica_medidas_porDia(df, user_col='user_id', timestamp_col='timestamp'):\n",
    "    \"\"\"\n",
    "    Verifica si todos los usuarios tienen el mismo número de medidas al día. \n",
    "    Args:\n",
    "        - df: dataframe \n",
    "        - user_col: columna con ids usuarios. \n",
    "        - timestamp_col : columna con timestamps. \n",
    "    Returns: \n",
    "        None: imprime resultados. \n",
    "    \"\"\"\n",
    "     #creamos fecha columna sin las horas\n",
    "    df[timestamp_col] = pd.to_datetime(df[timestamp_col], errors='coerce', dayfirst=True)\n",
    "\n",
    "    df['date'] = df[timestamp_col].dt.date\n",
    "    medidas_porDia = df.groupby([user_col, 'date']).size().reset_index(name='num_medidas')\n",
    "\n",
    "    #verificar si todos los usuarios tienen mismo num de medidas al día\n",
    "    medidas_unicas = medidas_porDia['num_medidas'].unique()\n",
    "    \n",
    "    if len(medidas_unicas)==1:\n",
    "        print(f\"Todos los usuarios tienen el mismo numero de medidas al día: {medidas_unicas[0]}\")\n",
    "    else:\n",
    "            print(f\"Los usuarios tienen diferentes números de medidas al día:{ medidas_porDia.groupby('num_medidas').size()}\")\n",
    "            plt.hist(medidas_porDia['num_medidas'], bins=range(1, medidas_porDia['num_medidas'].max() + 2), edgecolor='black')\n",
    "            plt.title(\"Distribución del número de medidas al día\")\n",
    "            plt.xlabel(\"Número de medidas al día\")\n",
    "            plt.ylabel(\"Frecuencia\")\n",
    "            plt.xticks(range(1, medidas_porDia['num_medidas'].max() + 1))\n",
    "            plt.show()"
   ]
  },
  {
   "cell_type": "code",
   "execution_count": 306,
   "id": "dded1ee7-377b-4828-b224-e06b0c453881",
   "metadata": {},
   "outputs": [
    {
     "name": "stdout",
     "output_type": "stream",
     "text": [
      "Los usuarios tienen diferentes números de medidas al día:num_medidas\n",
      "1     13\n",
      "2     35\n",
      "3    623\n",
      "4      1\n",
      "dtype: int64\n"
     ]
    },
    {
     "data": {
      "image/png": "[encoded data removed]",
      "text/plain": [
       "<Figure size 640x480 with 1 Axes>"
      ]
     },
     "metadata": {},
     "output_type": "display_data"
    }
   ],
   "source": [
    "verifica_medidas_porDia(firstTrimester)"
   ]
  },
  {
   "cell_type": "markdown",
   "id": "58feab19-4d35-4c79-a072-a61e921890b3",
   "metadata": {},
   "source": [
    "En la mayoría los usuarios recogen datos entre 3-4 veces al día. Podemos buscar los que no para completar la entrada a nuesro modelo. "
   ]
  },
  {
   "cell_type": "code",
   "execution_count": 309,
   "id": "ec0ba317-65f0-4e14-b4c2-cd4bfdfdfd17",
   "metadata": {},
   "outputs": [
    {
     "name": "stdout",
     "output_type": "stream",
     "text": [
      "user_id        0\n",
      "Age            0\n",
      "timestamp      0\n",
      "DiastolicBP    0\n",
      "SystolicBP     0\n",
      "BS             0\n",
      "BodyTemp       0\n",
      "HeartRate      0\n",
      "day            0\n",
      "month&year     0\n",
      "date           0\n",
      "dtype: int64\n"
     ]
    }
   ],
   "source": [
    "print(firstTrimester.isnull().sum())"
   ]
  },
  {
   "cell_type": "markdown",
   "id": "4a04ae0b-a617-4a93-b162-83ec3a5bc505",
   "metadata": {},
   "source": [
    "Podemos observar que ha surgido un problema añadido, y es que no sólo faltan medidas por día en el usuario, es que no aparecen estas filas con valores NaN para poder rellenar: vamos a reindexar el dataframe para que existan huecos que podamos rellenar."
   ]
  },
  {
   "cell_type": "code",
   "execution_count": 312,
   "id": "d4fa3a71-8410-4cf6-9fb7-00f13b3f230e",
   "metadata": {},
   "outputs": [
    {
     "name": "stdout",
     "output_type": "stream",
     "text": [
      "        user_id   Age           timestamp  DiastolicBP  SystolicBP  \\\n",
      "0     user_0000  32.0 2024-06-16 02:45:05    89.000000  134.000000   \n",
      "1     user_0000  32.0 2024-06-16 10:45:05    87.000000  130.166667   \n",
      "2     user_0000  32.0 2024-06-16 18:45:05    87.000000  130.166667   \n",
      "3     user_0000  31.0 2024-06-18 07:37:54    87.000000  133.000000   \n",
      "4     user_0000  31.0 2024-06-18 15:37:54    86.333333  131.166667   \n",
      "...         ...   ...                 ...          ...         ...   \n",
      "1202  user_0099  32.0 2024-06-13 16:00:00    86.333333  131.000000   \n",
      "1203  user_0099  32.0 2024-06-13 23:22:02    86.333333  131.000000   \n",
      "1204  user_0099  32.0 2024-06-28 08:00:00    86.333333  131.000000   \n",
      "1205  user_0099  32.0 2024-06-28 16:00:00    87.000000  130.166667   \n",
      "1206  user_0099  32.0 2024-06-28 17:20:22    84.000000  134.000000   \n",
      "\n",
      "              BS   BodyTemp   HeartRate         day month&year        date  \n",
      "0     148.614941  98.696800  100.000000  2024-06-16    2024-06  2024-06-16  \n",
      "1     149.878696  98.711909  108.166667  2024-06-16    2024-06  2024-06-16  \n",
      "2     149.878696  98.711909  108.166667  2024-06-16    2024-06  2024-06-16  \n",
      "3     159.415316  98.843603  121.000000  2024-06-18    2024-06  2024-06-18  \n",
      "4     143.821881  98.870108  102.000000  2024-06-18    2024-06  2024-06-18  \n",
      "...          ...        ...         ...         ...        ...         ...  \n",
      "1202  149.752092  98.772828  107.166667  2024-06-13    2024-06  2024-06-13  \n",
      "1203  149.752092  98.772828  107.166667  2024-06-13    2024-06  2024-06-13  \n",
      "1204  149.752092  98.772828  107.166667  2024-06-28    2024-06  2024-06-28  \n",
      "1205  149.878696  98.711909  108.166667  2024-06-28    2024-06  2024-06-28  \n",
      "1206  150.783698  98.562741  103.000000  2024-06-28    2024-06  2024-06-28  \n",
      "\n",
      "[1956 rows x 11 columns]\n"
     ]
    }
   ],
   "source": [
    "import wearable_sintetico as ws\n",
    "\n",
    "# Aplicar la función por usuario y día\n",
    "# Ordenar el dataframe para que sea más sencillo la ampliación\n",
    "firstTrimester_expanded = firstTrimester.sort_values(by=['user_id', 'timestamp'])\n",
    "print(firstTrimester_expanded)"
   ]
  },
  {
   "cell_type": "code",
   "execution_count": 314,
   "id": "fa40a3c2-1cce-4385-9a59-2bd556558e34",
   "metadata": {},
   "outputs": [
    {
     "name": "stdout",
     "output_type": "stream",
     "text": [
      "             missing_count  missing_percentage\n",
      "user_id                  0                 0.0\n",
      "Age                      0                 0.0\n",
      "timestamp                0                 0.0\n",
      "DiastolicBP              0                 0.0\n",
      "SystolicBP               0                 0.0\n",
      "BS                       0                 0.0\n",
      "BodyTemp                 0                 0.0\n",
      "HeartRate                0                 0.0\n",
      "day                      0                 0.0\n",
      "month&year               0                 0.0\n",
      "date                     0                 0.0\n"
     ]
    }
   ],
   "source": [
    "summary_firstTrimesterExpanded = ws.summarize_missing_values(firstTrimester_expanded)\n",
    "print(summary_firstTrimesterExpanded)"
   ]
  },
  {
   "cell_type": "markdown",
   "id": "b9522b55-26a9-43b8-a536-d59163c66640",
   "metadata": {},
   "source": [
    "Ahora podemos insertar datos en las celdads NaN como ya hicimos con el primer mes. Usaremos directamente KNN porque \n",
    "ya hemos visto que es el algoritmo que mejor maneja nuestros datos. "
   ]
  },
  {
   "cell_type": "code",
   "execution_count": 317,
   "id": "a8043dbf-3950-4c92-8697-067384678b20",
   "metadata": {},
   "outputs": [
    {
     "data": {
      "text/html": [
       "<div>\n",
       "<style scoped>\n",
       "    .dataframe tbody tr th:only-of-type {\n",
       "        vertical-align: middle;\n",
       "    }\n",
       "\n",
       "    .dataframe tbody tr th {\n",
       "        vertical-align: top;\n",
       "    }\n",
       "\n",
       "    .dataframe thead th {\n",
       "        text-align: right;\n",
       "    }\n",
       "</style>\n",
       "<table border=\"1\" class=\"dataframe\">\n",
       "  <thead>\n",
       "    <tr style=\"text-align: right;\">\n",
       "      <th></th>\n",
       "      <th>user_id</th>\n",
       "      <th>Age</th>\n",
       "      <th>timestamp</th>\n",
       "      <th>DiastolicBP</th>\n",
       "      <th>SystolicBP</th>\n",
       "      <th>BS</th>\n",
       "      <th>BodyTemp</th>\n",
       "      <th>HeartRate</th>\n",
       "      <th>day</th>\n",
       "      <th>month&amp;year</th>\n",
       "      <th>date</th>\n",
       "    </tr>\n",
       "  </thead>\n",
       "  <tbody>\n",
       "    <tr>\n",
       "      <th>0</th>\n",
       "      <td>user_0000</td>\n",
       "      <td>32.0</td>\n",
       "      <td>2024-06-16 02:45:05</td>\n",
       "      <td>89.000000</td>\n",
       "      <td>134.000000</td>\n",
       "      <td>148.614941</td>\n",
       "      <td>98.696800</td>\n",
       "      <td>100.000000</td>\n",
       "      <td>2024-06-16</td>\n",
       "      <td>2024-06</td>\n",
       "      <td>2024-06-16</td>\n",
       "    </tr>\n",
       "    <tr>\n",
       "      <th>1</th>\n",
       "      <td>user_0000</td>\n",
       "      <td>32.0</td>\n",
       "      <td>2024-06-16 10:45:05</td>\n",
       "      <td>87.000000</td>\n",
       "      <td>130.166667</td>\n",
       "      <td>149.878696</td>\n",
       "      <td>98.711909</td>\n",
       "      <td>108.166667</td>\n",
       "      <td>2024-06-16</td>\n",
       "      <td>2024-06</td>\n",
       "      <td>2024-06-16</td>\n",
       "    </tr>\n",
       "    <tr>\n",
       "      <th>2</th>\n",
       "      <td>user_0000</td>\n",
       "      <td>32.0</td>\n",
       "      <td>2024-06-16 18:45:05</td>\n",
       "      <td>87.000000</td>\n",
       "      <td>130.166667</td>\n",
       "      <td>149.878696</td>\n",
       "      <td>98.711909</td>\n",
       "      <td>108.166667</td>\n",
       "      <td>2024-06-16</td>\n",
       "      <td>2024-06</td>\n",
       "      <td>2024-06-16</td>\n",
       "    </tr>\n",
       "    <tr>\n",
       "      <th>3</th>\n",
       "      <td>user_0000</td>\n",
       "      <td>31.0</td>\n",
       "      <td>2024-06-18 07:37:54</td>\n",
       "      <td>87.000000</td>\n",
       "      <td>133.000000</td>\n",
       "      <td>159.415316</td>\n",
       "      <td>98.843603</td>\n",
       "      <td>121.000000</td>\n",
       "      <td>2024-06-18</td>\n",
       "      <td>2024-06</td>\n",
       "      <td>2024-06-18</td>\n",
       "    </tr>\n",
       "    <tr>\n",
       "      <th>4</th>\n",
       "      <td>user_0000</td>\n",
       "      <td>31.0</td>\n",
       "      <td>2024-06-18 15:37:54</td>\n",
       "      <td>86.333333</td>\n",
       "      <td>131.166667</td>\n",
       "      <td>143.821881</td>\n",
       "      <td>98.870108</td>\n",
       "      <td>102.000000</td>\n",
       "      <td>2024-06-18</td>\n",
       "      <td>2024-06</td>\n",
       "      <td>2024-06-18</td>\n",
       "    </tr>\n",
       "  </tbody>\n",
       "</table>\n",
       "</div>"
      ],
      "text/plain": [
       "     user_id   Age           timestamp  DiastolicBP  SystolicBP          BS  \\\n",
       "0  user_0000  32.0 2024-06-16 02:45:05    89.000000  134.000000  148.614941   \n",
       "1  user_0000  32.0 2024-06-16 10:45:05    87.000000  130.166667  149.878696   \n",
       "2  user_0000  32.0 2024-06-16 18:45:05    87.000000  130.166667  149.878696   \n",
       "3  user_0000  31.0 2024-06-18 07:37:54    87.000000  133.000000  159.415316   \n",
       "4  user_0000  31.0 2024-06-18 15:37:54    86.333333  131.166667  143.821881   \n",
       "\n",
       "    BodyTemp   HeartRate         day month&year        date  \n",
       "0  98.696800  100.000000  2024-06-16    2024-06  2024-06-16  \n",
       "1  98.711909  108.166667  2024-06-16    2024-06  2024-06-16  \n",
       "2  98.711909  108.166667  2024-06-16    2024-06  2024-06-16  \n",
       "3  98.843603  121.000000  2024-06-18    2024-06  2024-06-18  \n",
       "4  98.870108  102.000000  2024-06-18    2024-06  2024-06-18  "
      ]
     },
     "execution_count": 317,
     "metadata": {},
     "output_type": "execute_result"
    }
   ],
   "source": [
    "FT_insertion = firstTrimester_expanded.copy()\n",
    "FT_insertion.head()"
   ]
  },
  {
   "cell_type": "code",
   "execution_count": 319,
   "id": "6f7468e5-eac9-4fef-83e8-d9725d9e93ee",
   "metadata": {},
   "outputs": [],
   "source": [
    "FT_insertion.drop(columns=['date', 'month&year'], inplace=True)"
   ]
  },
  {
   "cell_type": "markdown",
   "id": "f751b188-9bad-4c05-96a3-2988cb947462",
   "metadata": {},
   "source": [
    "## INSERICIÓN DE DATOS EN EL DATASET CON KNN"
   ]
  },
  {
   "cell_type": "code",
   "execution_count": 322,
   "id": "fe0d0c38-9fe0-4d1b-8b1b-76fcf061a7b9",
   "metadata": {},
   "outputs": [
    {
     "name": "stderr",
     "output_type": "stream",
     "text": [
      "C:\\Users\\virginia.anton\\anaconda3\\Lib\\site-packages\\fancyimpute\\solver.py:55: UserWarning: Input matrix is not missing any values\n",
      "  warnings.warn(\"Input matrix is not missing any values\")\n"
     ]
    },
    {
     "name": "stdout",
     "output_type": "stream",
     "text": [
      "Imputing row 1/1956 with 0 missing, elapsed time: 0.354\n",
      "Imputing row 101/1956 with 0 missing, elapsed time: 0.354\n",
      "Imputing row 201/1956 with 0 missing, elapsed time: 0.354\n",
      "Imputing row 301/1956 with 0 missing, elapsed time: 0.355\n",
      "Imputing row 401/1956 with 0 missing, elapsed time: 0.355\n",
      "Imputing row 501/1956 with 0 missing, elapsed time: 0.355\n",
      "Imputing row 601/1956 with 0 missing, elapsed time: 0.355\n",
      "Imputing row 701/1956 with 0 missing, elapsed time: 0.355\n",
      "Imputing row 801/1956 with 0 missing, elapsed time: 0.357\n",
      "Imputing row 901/1956 with 0 missing, elapsed time: 0.357\n",
      "Imputing row 1001/1956 with 0 missing, elapsed time: 0.357\n",
      "Imputing row 1101/1956 with 0 missing, elapsed time: 0.357\n",
      "Imputing row 1201/1956 with 0 missing, elapsed time: 0.358\n",
      "Imputing row 1301/1956 with 0 missing, elapsed time: 0.358\n",
      "Imputing row 1401/1956 with 0 missing, elapsed time: 0.358\n",
      "Imputing row 1501/1956 with 0 missing, elapsed time: 0.358\n",
      "Imputing row 1601/1956 with 0 missing, elapsed time: 0.359\n",
      "Imputing row 1701/1956 with 0 missing, elapsed time: 0.359\n",
      "Imputing row 1801/1956 with 0 missing, elapsed time: 0.359\n",
      "Imputing row 1901/1956 with 0 missing, elapsed time: 0.359\n",
      "        user_id   Age           timestamp  DiastolicBP  SystolicBP  \\\n",
      "0     user_0000  32.0 2024-06-16 02:45:05    89.000000  134.000000   \n",
      "1     user_0000  32.0 2024-06-16 10:45:05    87.000000  130.166667   \n",
      "2     user_0000  32.0 2024-06-16 18:45:05    87.000000  130.166667   \n",
      "3     user_0000  31.0 2024-06-18 07:37:54    87.000000  133.000000   \n",
      "4     user_0000  31.0 2024-06-18 15:37:54    86.333333  131.166667   \n",
      "...         ...   ...                 ...          ...         ...   \n",
      "1202  user_0099  32.0 2024-06-13 16:00:00    86.333333  131.000000   \n",
      "1203  user_0099  32.0 2024-06-13 23:22:02    86.333333  131.000000   \n",
      "1204  user_0099  32.0 2024-06-28 08:00:00    86.333333  131.000000   \n",
      "1205  user_0099  32.0 2024-06-28 16:00:00    87.000000  130.166667   \n",
      "1206  user_0099  32.0 2024-06-28 17:20:22    84.000000  134.000000   \n",
      "\n",
      "              BS   BodyTemp   HeartRate         day  \n",
      "0     148.614941  98.696800  100.000000  2024-06-16  \n",
      "1     149.878696  98.711909  108.166667  2024-06-16  \n",
      "2     149.878696  98.711909  108.166667  2024-06-16  \n",
      "3     159.415316  98.843603  121.000000  2024-06-18  \n",
      "4     143.821881  98.870108  102.000000  2024-06-18  \n",
      "...          ...        ...         ...         ...  \n",
      "1202  149.752092  98.772828  107.166667  2024-06-13  \n",
      "1203  149.752092  98.772828  107.166667  2024-06-13  \n",
      "1204  149.752092  98.772828  107.166667  2024-06-28  \n",
      "1205  149.878696  98.711909  108.166667  2024-06-28  \n",
      "1206  150.783698  98.562741  103.000000  2024-06-28  \n",
      "\n",
      "[1956 rows x 9 columns]\n"
     ]
    },
    {
     "data": {
      "text/html": [
       "<div>\n",
       "<style scoped>\n",
       "    .dataframe tbody tr th:only-of-type {\n",
       "        vertical-align: middle;\n",
       "    }\n",
       "\n",
       "    .dataframe tbody tr th {\n",
       "        vertical-align: top;\n",
       "    }\n",
       "\n",
       "    .dataframe thead th {\n",
       "        text-align: right;\n",
       "    }\n",
       "</style>\n",
       "<table border=\"1\" class=\"dataframe\">\n",
       "  <thead>\n",
       "    <tr style=\"text-align: right;\">\n",
       "      <th></th>\n",
       "      <th>user_id</th>\n",
       "      <th>Age</th>\n",
       "      <th>timestamp</th>\n",
       "      <th>DiastolicBP</th>\n",
       "      <th>SystolicBP</th>\n",
       "      <th>BS</th>\n",
       "      <th>BodyTemp</th>\n",
       "      <th>HeartRate</th>\n",
       "      <th>day</th>\n",
       "    </tr>\n",
       "  </thead>\n",
       "  <tbody>\n",
       "    <tr>\n",
       "      <th>0</th>\n",
       "      <td>user_0000</td>\n",
       "      <td>32.0</td>\n",
       "      <td>2024-06-16 02:45:05</td>\n",
       "      <td>89.000000</td>\n",
       "      <td>134.000000</td>\n",
       "      <td>148.614941</td>\n",
       "      <td>98.696800</td>\n",
       "      <td>100.000000</td>\n",
       "      <td>2024-06-16</td>\n",
       "    </tr>\n",
       "    <tr>\n",
       "      <th>1</th>\n",
       "      <td>user_0000</td>\n",
       "      <td>32.0</td>\n",
       "      <td>2024-06-16 10:45:05</td>\n",
       "      <td>87.000000</td>\n",
       "      <td>130.166667</td>\n",
       "      <td>149.878696</td>\n",
       "      <td>98.711909</td>\n",
       "      <td>108.166667</td>\n",
       "      <td>2024-06-16</td>\n",
       "    </tr>\n",
       "    <tr>\n",
       "      <th>2</th>\n",
       "      <td>user_0000</td>\n",
       "      <td>32.0</td>\n",
       "      <td>2024-06-16 18:45:05</td>\n",
       "      <td>87.000000</td>\n",
       "      <td>130.166667</td>\n",
       "      <td>149.878696</td>\n",
       "      <td>98.711909</td>\n",
       "      <td>108.166667</td>\n",
       "      <td>2024-06-16</td>\n",
       "    </tr>\n",
       "    <tr>\n",
       "      <th>3</th>\n",
       "      <td>user_0000</td>\n",
       "      <td>31.0</td>\n",
       "      <td>2024-06-18 07:37:54</td>\n",
       "      <td>87.000000</td>\n",
       "      <td>133.000000</td>\n",
       "      <td>159.415316</td>\n",
       "      <td>98.843603</td>\n",
       "      <td>121.000000</td>\n",
       "      <td>2024-06-18</td>\n",
       "    </tr>\n",
       "    <tr>\n",
       "      <th>4</th>\n",
       "      <td>user_0000</td>\n",
       "      <td>31.0</td>\n",
       "      <td>2024-06-18 15:37:54</td>\n",
       "      <td>86.333333</td>\n",
       "      <td>131.166667</td>\n",
       "      <td>143.821881</td>\n",
       "      <td>98.870108</td>\n",
       "      <td>102.000000</td>\n",
       "      <td>2024-06-18</td>\n",
       "    </tr>\n",
       "  </tbody>\n",
       "</table>\n",
       "</div>"
      ],
      "text/plain": [
       "     user_id   Age           timestamp  DiastolicBP  SystolicBP          BS  \\\n",
       "0  user_0000  32.0 2024-06-16 02:45:05    89.000000  134.000000  148.614941   \n",
       "1  user_0000  32.0 2024-06-16 10:45:05    87.000000  130.166667  149.878696   \n",
       "2  user_0000  32.0 2024-06-16 18:45:05    87.000000  130.166667  149.878696   \n",
       "3  user_0000  31.0 2024-06-18 07:37:54    87.000000  133.000000  159.415316   \n",
       "4  user_0000  31.0 2024-06-18 15:37:54    86.333333  131.166667  143.821881   \n",
       "\n",
       "    BodyTemp   HeartRate         day  \n",
       "0  98.696800  100.000000  2024-06-16  \n",
       "1  98.711909  108.166667  2024-06-16  \n",
       "2  98.711909  108.166667  2024-06-16  \n",
       "3  98.843603  121.000000  2024-06-18  \n",
       "4  98.870108  102.000000  2024-06-18  "
      ]
     },
     "execution_count": 322,
     "metadata": {},
     "output_type": "execute_result"
    }
   ],
   "source": [
    "FT_inserted=ws.insercionConKNN(FT_insertion, 6)\n",
    "FT_inserted.head()\n"
   ]
  },
  {
   "cell_type": "markdown",
   "id": "39fbf98c-87c9-4697-9252-a4970608d12d",
   "metadata": {},
   "source": [
    "Vamos a cambiar el formato de las columnas Age, DiastolicBP, SystolicBP y HeartRate, \n",
    "ya que en las  funciones de evaluación de la distribución de nuestros datos declaradas en el notebook de \n",
    "wearable_sintetico están en formato  int. "
   ]
  },
  {
   "cell_type": "code",
   "execution_count": 325,
   "id": "d1bd9dac-1250-4c67-a864-5a61fb51cfe8",
   "metadata": {},
   "outputs": [],
   "source": [
    "def  adjust_column_formats(df):\n",
    "    \"\"\"\n",
    "    Ajusta las columnas Age, DiastolicBP, SystolicBP y HeartRate como int. \n",
    "    ARGS:\n",
    "        - df: dataframe a modificar. \n",
    "    RETURNS:\n",
    "        - Dataframe con columnas cambiadas.\n",
    "        \n",
    "    \"\"\"\n",
    "    df['Age'] = df['Age'].astype(int)\n",
    "    df['DiastolicBP'] = df['DiastolicBP'].astype(int)\n",
    "    df['SystolicBP'] = df['SystolicBP'].astype(int)\n",
    "    df['HeartRate'] = df['HeartRate'].astype(int)\n",
    "\n",
    "    return df\n"
   ]
  },
  {
   "cell_type": "code",
   "execution_count": 327,
   "id": "3b194d3b-7d29-4d95-b897-2893672eaf7d",
   "metadata": {},
   "outputs": [
    {
     "data": {
      "text/html": [
       "<div>\n",
       "<style scoped>\n",
       "    .dataframe tbody tr th:only-of-type {\n",
       "        vertical-align: middle;\n",
       "    }\n",
       "\n",
       "    .dataframe tbody tr th {\n",
       "        vertical-align: top;\n",
       "    }\n",
       "\n",
       "    .dataframe thead th {\n",
       "        text-align: right;\n",
       "    }\n",
       "</style>\n",
       "<table border=\"1\" class=\"dataframe\">\n",
       "  <thead>\n",
       "    <tr style=\"text-align: right;\">\n",
       "      <th></th>\n",
       "      <th>user_id</th>\n",
       "      <th>Age</th>\n",
       "      <th>timestamp</th>\n",
       "      <th>DiastolicBP</th>\n",
       "      <th>SystolicBP</th>\n",
       "      <th>BS</th>\n",
       "      <th>BodyTemp</th>\n",
       "      <th>HeartRate</th>\n",
       "      <th>day</th>\n",
       "    </tr>\n",
       "  </thead>\n",
       "  <tbody>\n",
       "    <tr>\n",
       "      <th>0</th>\n",
       "      <td>user_0000</td>\n",
       "      <td>32</td>\n",
       "      <td>2024-06-16 02:45:05</td>\n",
       "      <td>89</td>\n",
       "      <td>134</td>\n",
       "      <td>148.614941</td>\n",
       "      <td>98.696800</td>\n",
       "      <td>100</td>\n",
       "      <td>2024-06-16</td>\n",
       "    </tr>\n",
       "    <tr>\n",
       "      <th>1</th>\n",
       "      <td>user_0000</td>\n",
       "      <td>32</td>\n",
       "      <td>2024-06-16 10:45:05</td>\n",
       "      <td>87</td>\n",
       "      <td>130</td>\n",
       "      <td>149.878696</td>\n",
       "      <td>98.711909</td>\n",
       "      <td>108</td>\n",
       "      <td>2024-06-16</td>\n",
       "    </tr>\n",
       "    <tr>\n",
       "      <th>2</th>\n",
       "      <td>user_0000</td>\n",
       "      <td>32</td>\n",
       "      <td>2024-06-16 18:45:05</td>\n",
       "      <td>87</td>\n",
       "      <td>130</td>\n",
       "      <td>149.878696</td>\n",
       "      <td>98.711909</td>\n",
       "      <td>108</td>\n",
       "      <td>2024-06-16</td>\n",
       "    </tr>\n",
       "    <tr>\n",
       "      <th>3</th>\n",
       "      <td>user_0000</td>\n",
       "      <td>31</td>\n",
       "      <td>2024-06-18 07:37:54</td>\n",
       "      <td>87</td>\n",
       "      <td>133</td>\n",
       "      <td>159.415316</td>\n",
       "      <td>98.843603</td>\n",
       "      <td>121</td>\n",
       "      <td>2024-06-18</td>\n",
       "    </tr>\n",
       "    <tr>\n",
       "      <th>4</th>\n",
       "      <td>user_0000</td>\n",
       "      <td>31</td>\n",
       "      <td>2024-06-18 15:37:54</td>\n",
       "      <td>86</td>\n",
       "      <td>131</td>\n",
       "      <td>143.821881</td>\n",
       "      <td>98.870108</td>\n",
       "      <td>102</td>\n",
       "      <td>2024-06-18</td>\n",
       "    </tr>\n",
       "  </tbody>\n",
       "</table>\n",
       "</div>"
      ],
      "text/plain": [
       "     user_id  Age           timestamp  DiastolicBP  SystolicBP          BS  \\\n",
       "0  user_0000   32 2024-06-16 02:45:05           89         134  148.614941   \n",
       "1  user_0000   32 2024-06-16 10:45:05           87         130  149.878696   \n",
       "2  user_0000   32 2024-06-16 18:45:05           87         130  149.878696   \n",
       "3  user_0000   31 2024-06-18 07:37:54           87         133  159.415316   \n",
       "4  user_0000   31 2024-06-18 15:37:54           86         131  143.821881   \n",
       "\n",
       "    BodyTemp  HeartRate         day  \n",
       "0  98.696800        100  2024-06-16  \n",
       "1  98.711909        108  2024-06-16  \n",
       "2  98.711909        108  2024-06-16  \n",
       "3  98.843603        121  2024-06-18  \n",
       "4  98.870108        102  2024-06-18  "
      ]
     },
     "execution_count": 327,
     "metadata": {},
     "output_type": "execute_result"
    }
   ],
   "source": [
    "FT_inserted = adjust_column_formats(FT_inserted)\n",
    "FT_inserted.head()\n"
   ]
  },
  {
   "cell_type": "markdown",
   "id": "e0addfe6-e027-4053-b6b1-b2e8b4380b2f",
   "metadata": {},
   "source": [
    "Vamos a convertir los datos de la columna de azúcar en sangre (BS), porque se han generado en mg/dl\n",
    "y lo queremos pasar a mmol/l"
   ]
  },
  {
   "cell_type": "code",
   "execution_count": 331,
   "id": "fd978407-9a95-45c0-ae5f-f219b643596a",
   "metadata": {},
   "outputs": [
    {
     "data": {
      "text/html": [
       "<div>\n",
       "<style scoped>\n",
       "    .dataframe tbody tr th:only-of-type {\n",
       "        vertical-align: middle;\n",
       "    }\n",
       "\n",
       "    .dataframe tbody tr th {\n",
       "        vertical-align: top;\n",
       "    }\n",
       "\n",
       "    .dataframe thead th {\n",
       "        text-align: right;\n",
       "    }\n",
       "</style>\n",
       "<table border=\"1\" class=\"dataframe\">\n",
       "  <thead>\n",
       "    <tr style=\"text-align: right;\">\n",
       "      <th></th>\n",
       "      <th>user_id</th>\n",
       "      <th>Age</th>\n",
       "      <th>timestamp</th>\n",
       "      <th>DiastolicBP</th>\n",
       "      <th>SystolicBP</th>\n",
       "      <th>BS</th>\n",
       "      <th>BodyTemp</th>\n",
       "      <th>HeartRate</th>\n",
       "      <th>day</th>\n",
       "    </tr>\n",
       "  </thead>\n",
       "  <tbody>\n",
       "    <tr>\n",
       "      <th>0</th>\n",
       "      <td>user_0000</td>\n",
       "      <td>32</td>\n",
       "      <td>2024-06-16 02:45:05</td>\n",
       "      <td>89</td>\n",
       "      <td>134</td>\n",
       "      <td>8.26</td>\n",
       "      <td>98.696800</td>\n",
       "      <td>100</td>\n",
       "      <td>2024-06-16</td>\n",
       "    </tr>\n",
       "    <tr>\n",
       "      <th>1</th>\n",
       "      <td>user_0000</td>\n",
       "      <td>32</td>\n",
       "      <td>2024-06-16 10:45:05</td>\n",
       "      <td>87</td>\n",
       "      <td>130</td>\n",
       "      <td>8.33</td>\n",
       "      <td>98.711909</td>\n",
       "      <td>108</td>\n",
       "      <td>2024-06-16</td>\n",
       "    </tr>\n",
       "    <tr>\n",
       "      <th>2</th>\n",
       "      <td>user_0000</td>\n",
       "      <td>32</td>\n",
       "      <td>2024-06-16 18:45:05</td>\n",
       "      <td>87</td>\n",
       "      <td>130</td>\n",
       "      <td>8.33</td>\n",
       "      <td>98.711909</td>\n",
       "      <td>108</td>\n",
       "      <td>2024-06-16</td>\n",
       "    </tr>\n",
       "    <tr>\n",
       "      <th>3</th>\n",
       "      <td>user_0000</td>\n",
       "      <td>31</td>\n",
       "      <td>2024-06-18 07:37:54</td>\n",
       "      <td>87</td>\n",
       "      <td>133</td>\n",
       "      <td>8.86</td>\n",
       "      <td>98.843603</td>\n",
       "      <td>121</td>\n",
       "      <td>2024-06-18</td>\n",
       "    </tr>\n",
       "    <tr>\n",
       "      <th>4</th>\n",
       "      <td>user_0000</td>\n",
       "      <td>31</td>\n",
       "      <td>2024-06-18 15:37:54</td>\n",
       "      <td>86</td>\n",
       "      <td>131</td>\n",
       "      <td>7.99</td>\n",
       "      <td>98.870108</td>\n",
       "      <td>102</td>\n",
       "      <td>2024-06-18</td>\n",
       "    </tr>\n",
       "  </tbody>\n",
       "</table>\n",
       "</div>"
      ],
      "text/plain": [
       "     user_id  Age           timestamp  DiastolicBP  SystolicBP    BS  \\\n",
       "0  user_0000   32 2024-06-16 02:45:05           89         134  8.26   \n",
       "1  user_0000   32 2024-06-16 10:45:05           87         130  8.33   \n",
       "2  user_0000   32 2024-06-16 18:45:05           87         130  8.33   \n",
       "3  user_0000   31 2024-06-18 07:37:54           87         133  8.86   \n",
       "4  user_0000   31 2024-06-18 15:37:54           86         131  7.99   \n",
       "\n",
       "    BodyTemp  HeartRate         day  \n",
       "0  98.696800        100  2024-06-16  \n",
       "1  98.711909        108  2024-06-16  \n",
       "2  98.711909        108  2024-06-16  \n",
       "3  98.843603        121  2024-06-18  \n",
       "4  98.870108        102  2024-06-18  "
      ]
     },
     "execution_count": 331,
     "metadata": {},
     "output_type": "execute_result"
    }
   ],
   "source": [
    "FT_inserted['BS'] = (FT_inserted['BS']/18)\n",
    "FT_inserted['BS'] = FT_inserted['BS'].round(2)\n",
    "FT_inserted.head()"
   ]
  },
  {
   "cell_type": "markdown",
   "id": "784187a4-7f5b-4d02-b2db-dbba9de496cf",
   "metadata": {},
   "source": [
    "### COMPROBACIÓN DISTRBUCIÓN DE DATOS"
   ]
  },
  {
   "cell_type": "code",
   "execution_count": 333,
   "id": "d540ecaf-9c5e-4c34-8b83-1c58cb5a8020",
   "metadata": {},
   "outputs": [
    {
     "name": "stdout",
     "output_type": "stream",
     "text": [
      "  month&year  conteo\n",
      "0    2024-06    1169\n",
      "1    2024-07     336\n",
      "2    2024-08     435\n",
      "3    2024-09      16\n"
     ]
    }
   ],
   "source": [
    "conteo_mensual= ws.count_data_per_month(FT_inserted, 'day')\n",
    "print(conteo_mensual)"
   ]
  },
  {
   "cell_type": "markdown",
   "id": "fabe414c-931b-4ec8-8968-8e04963e63b0",
   "metadata": {},
   "source": [
    "Vamos a verificar si la mayoría de las medidas se encuentran en 3-4 registros al día,\n",
    "para ver la calidad de la inserción"
   ]
  },
  {
   "cell_type": "code",
   "execution_count": 336,
   "id": "01b749f6-7656-436b-9d53-0be1a0f4b141",
   "metadata": {},
   "outputs": [
    {
     "name": "stdout",
     "output_type": "stream",
     "text": [
      "Los usuarios tienen diferentes números de medidas al día:num_medidas\n",
      "1     13\n",
      "2     35\n",
      "3    623\n",
      "4      1\n",
      "dtype: int64\n"
     ]
    },
    {
     "data": {
      "image/png": "[encoded data removed]",
      "text/plain": [
       "<Figure size 640x480 with 1 Axes>"
      ]
     },
     "metadata": {},
     "output_type": "display_data"
    }
   ],
   "source": [
    "ws.verifica_medidas_porDia(FT_inserted)"
   ]
  },
  {
   "cell_type": "markdown",
   "id": "fcaf7ad8-c245-4038-bc29-3bab42b2ed35",
   "metadata": {},
   "source": [
    "Commo vemos, todos los usuarios registraran tres medidas al día, aunque no todos los \n",
    "usuarios siguen la misma rutina de registro, unos lo dejan antes de registrar y otros en cambio, \n",
    "lo registran durante todo el trimestre. "
   ]
  },
  {
   "cell_type": "code",
   "execution_count": 339,
   "id": "7a697a3b-ffa2-4c95-b37b-c0274f099bd9",
   "metadata": {},
   "outputs": [],
   "source": [
    "FT_inserted.to_csv(\"firstTrimester_EXPANDED.csv\", index=False)"
   ]
  },
  {
   "cell_type": "markdown",
   "id": "5a9f264d-cc26-49cf-accb-cd7b367b472c",
   "metadata": {},
   "source": [
    "## EVALUACIÓN CALIDAD DATOS DEL DATASET DEL PRIMER TRIMESTRE"
   ]
  },
  {
   "cell_type": "markdown",
   "id": "46207f0c-fdbb-46b0-8fd4-c6fae342734a",
   "metadata": {},
   "source": [
    "### Revisión rangos fisiológicos"
   ]
  },
  {
   "cell_type": "code",
   "execution_count": 343,
   "id": "8ea32563-7731-4677-821c-7d23471ea9f7",
   "metadata": {},
   "outputs": [
    {
     "name": "stdout",
     "output_type": "stream",
     "text": [
      "- Valores fuera del rango de SystolicBP:149\n",
      "\n",
      "- Total valores de SystolicBP:1956\n",
      "\n",
      "- Valores validos de SystolicBP: 1807\n",
      "\n",
      "- Valores fuera del rango de DiastolicBP:189\n",
      "\n",
      "- Total valores de DiastolicBP:1956\n",
      "\n",
      "- Valores validos de DiastolicBP: 1767\n",
      "\n",
      "- Valores fuera del rango de BodyTemp:244\n",
      "\n",
      "- Total valores de BodyTemp:1956\n",
      "\n",
      "- Valores validos de BodyTemp: 1712\n",
      "\n",
      "- Valores fuera del rango de BS:0\n",
      "\n",
      "- Total valores de BS:1956\n",
      "\n",
      "- Valores validos de BS: 1956\n",
      "\n",
      "- Valores fuera del rango de HeartRate:232\n",
      "\n",
      "- Total valores de HeartRate:1956\n",
      "\n",
      "- Valores validos de HeartRate: 1724\n",
      "\n"
     ]
    }
   ],
   "source": [
    "ws.verifica_rango(FT_inserted)"
   ]
  },
  {
   "cell_type": "code",
   "execution_count": 345,
   "id": "fcd4e681-0c16-46e4-a57d-106318678748",
   "metadata": {},
   "outputs": [
    {
     "name": "stdout",
     "output_type": "stream",
     "text": [
      "        user_id  Age           timestamp  DiastolicBP  SystolicBP    BS  \\\n",
      "0     user_0000   32 2024-06-16 02:45:05           89         134  8.26   \n",
      "1     user_0000   32 2024-06-16 10:45:05           87         130  8.33   \n",
      "2     user_0000   32 2024-06-16 18:45:05           87         130  8.33   \n",
      "3     user_0000   31 2024-06-18 07:37:54           87         133  8.86   \n",
      "4     user_0000   31 2024-06-18 15:37:54           86         131  7.99   \n",
      "...         ...  ...                 ...          ...         ...   ...   \n",
      "1202  user_0099   32 2024-06-13 16:00:00           86         131  8.32   \n",
      "1203  user_0099   32 2024-06-13 23:22:02           86         131  8.32   \n",
      "1204  user_0099   32 2024-06-28 08:00:00           86         131  8.32   \n",
      "1205  user_0099   32 2024-06-28 16:00:00           87         130  8.33   \n",
      "1206  user_0099   32 2024-06-28 17:20:22           84         134  8.38   \n",
      "\n",
      "       BodyTemp  HeartRate         day month&year        date  \n",
      "0     98.696800        100  2024-06-16    2024-06  2024-06-16  \n",
      "1     98.711909        108  2024-06-16    2024-06  2024-06-16  \n",
      "2     98.711909        108  2024-06-16    2024-06  2024-06-16  \n",
      "3     98.843603        121  2024-06-18    2024-06  2024-06-18  \n",
      "4     98.870108        102  2024-06-18    2024-06  2024-06-18  \n",
      "...         ...        ...         ...        ...         ...  \n",
      "1202  98.772828        107  2024-06-13    2024-06  2024-06-13  \n",
      "1203  98.772828        107  2024-06-13    2024-06  2024-06-13  \n",
      "1204  98.772828        107  2024-06-28    2024-06  2024-06-28  \n",
      "1205  98.711909        108  2024-06-28    2024-06  2024-06-28  \n",
      "1206  98.562741        103  2024-06-28    2024-06  2024-06-28  \n",
      "\n",
      "[1533 rows x 11 columns]\n"
     ]
    }
   ],
   "source": [
    "FTInserted_validRange = ws.elimina_outliers(FT_inserted)\n",
    "print(FTInserted_validRange)"
   ]
  },
  {
   "cell_type": "markdown",
   "id": "ee7fecea-8978-4e9f-97ad-d7dcc034278a",
   "metadata": {},
   "source": [
    "### Consistencia temporal"
   ]
  },
  {
   "cell_type": "markdown",
   "id": "44dd4104-f767-47fd-8624-9d1830aed4ae",
   "metadata": {},
   "source": [
    "Verificamos que los registros de cada usuario estén ordenados y estén espaciados entre sí"
   ]
  },
  {
   "cell_type": "code",
   "execution_count": 351,
   "id": "7cd2b954-be3c-4080-8a6b-b1a6b6ad4f41",
   "metadata": {},
   "outputs": [
    {
     "name": "stdout",
     "output_type": "stream",
     "text": [
      "timestamp\n",
      "True    95\n",
      "Name: count, dtype: int64\n"
     ]
    }
   ],
   "source": [
    "#registros ordenados entre sí\n",
    "sorted_check = FTInserted_validRange.groupby('user_id')['timestamp'].apply(lambda x: x.is_monotonic_increasing)\n",
    "print(sorted_check.value_counts())"
   ]
  },
  {
   "cell_type": "markdown",
   "id": "60c8981c-81db-4e6c-94bd-7994b11ec3fe",
   "metadata": {},
   "source": [
    "Indica que para  los 95 usuarios únicos en el dataset, los valores de la columna timestamp están ordenados, \n",
    "de esta forma podemos decir que hay consistencia temporal. "
   ]
  },
  {
   "cell_type": "code",
   "execution_count": 354,
   "id": "da31ad50-b0f7-431c-862a-63fb8366ebb3",
   "metadata": {},
   "outputs": [
    {
     "name": "stdout",
     "output_type": "stream",
     "text": [
      "count                         1438\n",
      "mean     1 days 05:27:54.818497913\n",
      "std      3 days 18:46:22.211617827\n",
      "min                0 days 00:00:41\n",
      "25%         0 days 06:48:31.500000\n",
      "50%                0 days 08:00:00\n",
      "75%                0 days 08:00:00\n",
      "max               56 days 16:00:24\n",
      "Name: time_diff, dtype: object\n"
     ]
    }
   ],
   "source": [
    "#Chequeamos que los datos sean consistentes en intervalos de tiempo para cada usuario\n",
    "FTInserted_validRange['time_diff'] = FTInserted_validRange.groupby('user_id')['timestamp'].diff()\n",
    "print(FTInserted_validRange['time_diff'].describe())"
   ]
  },
  {
   "cell_type": "markdown",
   "id": "77019a33-d7a6-42b6-a85b-aca5dabfae38",
   "metadata": {},
   "source": [
    "Hay consistencia, los valores de la mediana (8h) y el tercer cuartil (8h) sugieren que la mayoría de los\n",
    "datos cumplen con un intervalo regular de tiempo, aunque en algunos casos hay variabilidad significativa, \n",
    "dado por una desviación estándar alta. "
   ]
  },
  {
   "cell_type": "markdown",
   "id": "46b7d956-4709-40e9-bb23-515d96357914",
   "metadata": {},
   "source": [
    "**Distribución de los datos:**"
   ]
  },
  {
   "cell_type": "code",
   "execution_count": 360,
   "id": "d3c949dc-72c1-470f-b6a2-0d6c36ea5d80",
   "metadata": {},
   "outputs": [
    {
     "data": {
      "image/png": "[encoded data removed]",
      "text/plain": [
       "<Figure size 1200x1000 with 9 Axes>"
      ]
     },
     "metadata": {},
     "output_type": "display_data"
    }
   ],
   "source": [
    "FTInserted_validRange.hist(figsize=(12,10))\n",
    "plt.show()"
   ]
  },
  {
   "cell_type": "markdown",
   "id": "68c715aa-c450-47c4-b24a-a43ecedf117a",
   "metadata": {},
   "source": [
    "**Interpretación de los datos:**"
   ]
  },
  {
   "cell_type": "markdown",
   "id": "e23b9148-e833-4376-a94a-6637be4d0112",
   "metadata": {},
   "source": [
    "<ol>\n",
    "    <li>Age:\n",
    "    <ul>\n",
    "        <li>La mayoría de la mujeres tienen edades concentradas alrededor de 30 años</li>\n",
    "        <li>Refleja la tendencia común de hoy en día a retrasar los embarazos de 30 años a edades más avanzadas.</li>\n",
    "    </ul></li>\n",
    "    <li>Presión Arterial:\n",
    "    <ul>\n",
    "        <li>Se concentran los valores entre 80 y 90 mmHg en la DiastolicBP, algo normal en el primer mes del embarazo.</li>\n",
    "        <li>Para la sistólica, mayormente netre 120 y 140 mmHg, dentro del rango normal.</li>\n",
    "    </ul></li>\n",
    "    <li>Azúcar en sangre:\n",
    "    <ul>\n",
    "        <li>Los valore se concentran entre 8 y 10 mmol/l, algo elevado. </li>\n",
    "        <li>Algunas pacientes podrían mostrar signos tempranos de resistencia a la insulina,probablemente representen \n",
    "        diabetes gestacional. </li>\n",
    "    </ul></li>\n",
    "    <li>Temperatura corporal:\n",
    "    <ul>\n",
    "        <li>La mayoría de los valores se concentran alrededor de 98,6ºF  o 37ºC.</li>\n",
    "        <li>Sugiere que ninguna mujer presentaba infecciones.</li>\n",
    "    </ul></li>\n",
    "    <li>Frecuencia cardíaca:\n",
    "    <ul>\n",
    "        <li>Los valores están alrededor de los valores 100 y 120 bpm.</li>\n",
    "        <li>Los valores son más  elevados de lo normal, pero algo de esperar durante el embarazo.</li>\n",
    "    </ul></li>\n",
    "    \n",
    "</ol>"
   ]
  },
  {
   "cell_type": "code",
   "execution_count": null,
   "id": "b2fe82ff-afd2-4204-bfe9-1db2ddde63f1",
   "metadata": {},
   "outputs": [],
   "source": []
  },
  {
   "cell_type": "code",
   "execution_count": null,
   "id": "2f00303d-5e52-4af9-8f98-3cef9fe2b69d",
   "metadata": {},
   "outputs": [],
   "source": []
  },
  {
   "cell_type": "code",
   "execution_count": null,
   "id": "debf7d25-5827-42f7-bee4-50dfd4c060d2",
   "metadata": {},
   "outputs": [],
   "source": []
  }
 ],
 "metadata": {
  "kernelspec": {
   "display_name": "Python 3 (ipykernel)",
   "language": "python",
   "name": "python3"
  },
  "language_info": {
   "codemirror_mode": {
    "name": "ipython",
    "version": 3
   },
   "file_extension": ".py",
   "mimetype": "text/x-python",
   "name": "python",
   "nbconvert_exporter": "python",
   "pygments_lexer": "ipython3",
   "version": "3.12.7"
  }
 },
 "nbformat": 4,
 "nbformat_minor": 5
}
